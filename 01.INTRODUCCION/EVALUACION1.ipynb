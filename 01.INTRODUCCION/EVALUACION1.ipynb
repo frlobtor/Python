{
  "nbformat": 4,
  "nbformat_minor": 0,
  "metadata": {
    "colab": {
      "name": "EVALUACION1.ipynb",
      "provenance": []
    },
    "kernelspec": {
      "name": "python3",
      "display_name": "Python 3"
    },
    "language_info": {
      "name": "python"
    }
  },
  "cells": [
    {
      "cell_type": "markdown",
      "source": [
        "# Práctica 1. \n",
        "6 puntos\n",
        "\n",
        "1 Práctica 1: Conociendo Python.\n",
        "\n",
        "Objetivo: Identificar el nivel de comprensión de los conceptos mediante preguntas abiertas.\n",
        "\n",
        "Responder las siguientes preguntas:\n",
        "\n"
      ],
      "metadata": {
        "id": "j1eqhlwTACMT"
      }
    },
    {
      "cell_type": "markdown",
      "source": [
        "\n",
        "1.1 ¿Qué es python? (2 puntos)\n",
        "\n",
        " Tu respuesta aquí: es un lenguaje de programación utilizado para aplicaciones web, el desarrollo de software, la ciencia de datos, además de que es eficiente y fácil de aprender, y se puede ejecutar en muchas plataformas diferentes\n",
        "\n",
        "1.2 ¿Es multiplataforma en que sistemas operativos funciona ? (2 puntos)\n",
        "\n",
        " Tu respuesta aquí: en la consola de windows, IDLE, blog de notas y google colab\n",
        " \n",
        "1.3 Ejercicio 1 (2 puntos) Escribir un programa que pregunte al usuario su nombre, y luego lo salude.\n"
      ],
      "metadata": {
        "id": "8rolc7oNANvo"
      }
    },
    {
      "cell_type": "code",
      "source": [
        "#Tú código aquí"
      ],
saludo=input("¿Cuál es tu nombre? ")
print("Hola ", saludo,", bienvenido")
      "metadata": {
        "id": "OpcH1h40AXRD"
      },
      "execution_count": null,
      "outputs": []
    }
  ]
}
